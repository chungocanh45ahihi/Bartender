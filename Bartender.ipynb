{
 "cells": [
  {
   "cell_type": "code",
   "execution_count": 16,
   "metadata": {},
   "outputs": [],
   "source": [
    "import random as rd"
   ]
  },
  {
   "cell_type": "markdown",
   "metadata": {},
   "source": [
    "#DATA INPUT:"
   ]
  },
  {
   "cell_type": "code",
   "execution_count": 17,
   "metadata": {},
   "outputs": [],
   "source": [
    "questions = {\n",
    "    \"strong\": \"Do ye like yer drinks strong?\",\n",
    "    \"salty\": \"Do ye like it with a salty tang?\",\n",
    "    \"bitter\": \"Are ye a lubber who likes it bitter?\",\n",
    "    \"sweet\": \"Would ye like a bit of sweetness with yer poison?\",\n",
    "    \"fruity\": \"Are ye one for a fruity finish?\",\n",
    "}\n",
    "\n",
    "ingredients = {\n",
    "    \"strong\": [\"glug of rum\", \"slug of whisky\", \"splash of gin\"],\n",
    "    \"salty\": [\"olive on a stick\", \"salt-dusted rim\", \"rasher of bacon\"],\n",
    "    \"bitter\": [\"shake of bitters\", \"splash of tonic\", \"twist of lemon peel\"],\n",
    "    \"sweet\": [\"sugar cube\", \"spoonful of honey\", \"spash of cola\"],\n",
    "    \"fruity\": [\"slice of orange\", \"dash of cassis\", \"cherry on top\"],\n",
    "}"
   ]
  },
  {
   "cell_type": "markdown",
   "metadata": {},
   "source": [
    "#DEPLOYMENT:"
   ]
  },
  {
   "cell_type": "code",
   "execution_count": 23,
   "metadata": {},
   "outputs": [],
   "source": [
    "def drink():\n",
    "    for i in questions:\n",
    "        print(questions[i])\n",
    "        answer = input('Y/N: ')\n",
    "        if answer.lower() == 'y':\n",
    "            print(rd.choice(ingredients[i]))"
   ]
  },
  {
   "cell_type": "code",
   "execution_count": 25,
   "metadata": {
    "scrolled": true
   },
   "outputs": [
    {
     "name": "stdout",
     "output_type": "stream",
     "text": [
      "Do ye like yer drinks strong?\n",
      "Y/N: ds\n",
      "Do ye like it with a salty tang?\n",
      "Y/N: ds\n",
      "Are ye a lubber who likes it bitter?\n",
      "Y/N: ds\n",
      "Would ye like a bit of sweetness with yer poison?\n",
      "Y/N: d\n",
      "Are ye one for a fruity finish?\n",
      "Y/N: sd\n"
     ]
    }
   ],
   "source": [
    "drink()"
   ]
  }
 ],
 "metadata": {
  "kernelspec": {
   "display_name": "Python 3",
   "language": "python",
   "name": "python3"
  },
  "language_info": {
   "codemirror_mode": {
    "name": "ipython",
    "version": 3
   },
   "file_extension": ".py",
   "mimetype": "text/x-python",
   "name": "python",
   "nbconvert_exporter": "python",
   "pygments_lexer": "ipython3",
   "version": "3.8.5"
  }
 },
 "nbformat": 4,
 "nbformat_minor": 4
}
